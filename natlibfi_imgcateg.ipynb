{
 "cells": [
  {
   "cell_type": "markdown",
   "metadata": {},
   "source": [
    "### Experimental historical illustration basic categorization work\n",
    "\n",
    "Experimental historical newspaper illustration basic categorization demo.\n",
    "\n",
    "Acknowledgments\n",
    "<img src=\"https://digi.kansalliskirjasto.fi/images/sosiaali_en.png\" alt=\"European Regional Development Fund\" height=\"110\">\n",
    "\n",
    "<img src=\"https://digi.kansalliskirjasto.fi/images/en_EU_rgb.png\" alt=\"Leverage from the EU 2014-2020\" height=\"110\">\n",
    "\n",
    "\n",
    "#### Setup \n",
    "\n",
    "Download the image classifier and the labels.\n",
    "\n",
    "Note! the download links below will inactivate at December 2019, after which please download the packages (Illustration base type classifier model file & labels) from https://digi.kansalliskirjasto.fi/opendata and update links below."
   ]
  },
  {
   "cell_type": "code",
   "execution_count": 5,
   "metadata": {},
   "outputs": [
    {
     "name": "stderr",
     "output_type": "stream",
     "text": [
      "  % Total    % Received % Xferd  Average Speed   Time    Time     Time  Current\n",
      "                                 Dload  Upload   Total   Spent    Left  Speed\n",
      "\n",
      "  0     0    0     0    0     0      0      0 --:--:-- --:--:-- --:--:--     0\n",
      " 49 83.4M   49 41.4M    0     0  45.1M      0  0:00:01 --:--:--  0:00:01 45.0M\n",
      "100 83.4M  100 83.4M    0     0  52.0M      0  0:00:01  0:00:01 --:--:-- 52.0M\n",
      "  % Total    % Received % Xferd  Average Speed   Time    Time     Time  Current\n",
      "                                 Dload  Upload   Total   Spent    Left  Speed\n",
      "\n",
      "  0     0    0     0    0     0      0      0 --:--:-- --:--:-- --:--:--     0\n",
      "100    77  100    77    0     0    636      0 --:--:-- --:--:-- --:--:--   636\n"
     ]
    }
   ],
   "source": [
    "\n",
    "\n",
    "!curl https://digi.kansalliskirjasto.fi/opendata-download-file/035f2c8bfc124d159b066272913c67e8/nlf_basetype_classifier.pb --output nlf_basetype_classifier.pb\n",
    "    \n",
    "!curl https://digi.kansalliskirjasto.fi/opendata-download-file/976df7ccbcef4831a270e6254263cfd6/nlf_basetype_classifier_labels.txt  --output nlf_basetype_classifier_labels.txt\n",
    "    \n",
    "    "
   ]
  },
  {
   "cell_type": "markdown",
   "metadata": {},
   "source": [
    "###  Image categorization code\n",
    "\n",
    "Basic imports"
   ]
  },
  {
   "cell_type": "code",
   "execution_count": 6,
   "metadata": {},
   "outputs": [],
   "source": [
    "import tensorflow as tf\n",
    "import sys\n",
    "import glob\n",
    "import os\n",
    "os.environ['TF_CPP_MIN_LOG_LEVEL'] = '3'\n",
    "\n",
    "# setup for label changes\n",
    "usedstrings = {\n",
    "    'piirros painokuva': 'piirrospainokuva',\n",
    "    'teksti mainos': 'mainos',\n",
    "    'roskat': 'muut'\n",
    "}\n"
   ]
  },
  {
   "cell_type": "code",
   "execution_count": 7,
   "metadata": {},
   "outputs": [],
   "source": [
    "# The function to do the categorization, the img parameter carries the filename\n",
    "\n",
    "def luokittelekuva(img=sys.argv[1]):\n",
    "    image_data = tf.gfile.GFile(img, 'rb').read()\n",
    "\n",
    "    AIDIR = \"./core/\"\n",
    "    image_path = \"./tmp/\"\n",
    "\n",
    "    # Read in the image_data\n",
    "    label_lines = [line.rstrip() for line\n",
    "                   in tf.gfile.GFile(AIDIR + \"nlf_basetype_classifier_labels.txt\")]\n",
    "\n",
    "    # Unpersists graph from file\n",
    "    with tf.gfile.GFile(AIDIR + \"nlf_basetype_classifier.pb\", 'rb') as f:\n",
    "        graph_def = tf.GraphDef()\n",
    "        graph_def.ParseFromString(f.read())\n",
    "        _ = tf.import_graph_def(graph_def, name='')\n",
    "\n",
    "        # Feed the image_data as input to the graph and get first prediction\n",
    "    with tf.Session() as sess:\n",
    "        softmax_tensor = sess.graph.get_tensor_by_name('final_result:0')\n",
    "        predictions = sess.run(softmax_tensor,\n",
    "                               {'DecodeJpeg/contents:0': image_data})\n",
    "\n",
    "        # Sort to show labels of first prediction in order of confidence\n",
    "        limit_score = 0.6\n",
    "        top_k = predictions[0].argsort()[-len(predictions[0]):][::-1]\n",
    "\n",
    "        max_score = 0\n",
    "        max_id = 0\n",
    "        for node_id in top_k:\n",
    "            score = predictions[0][node_id]\n",
    "            if(max_score < score):\n",
    "                max_score = score\n",
    "                max_id = node_id\n",
    "\n",
    "        # print(score)\n",
    "        # if score>limit_score: #and human_string==\"roskat\"+\"_\"+str(limit_score):\n",
    "        # tarkkuus=\"%.5f\" % score\n",
    "        #dst =human_string+'/'+tarkkuus+'_'+image_path\n",
    "\n",
    "        human_string = label_lines[max_id]  # +\"_\"+str(max_score)\n",
    "        print('%s : %s (score = %.5f)' % (image_path, human_string, score))\n",
    "\n",
    "        if human_string in usedstrings:\n",
    "            human_string = usedstrings[human_string]  # little bit better.\n",
    "\n",
    "        return (human_string, score)\n"
   ]
  },
  {
   "cell_type": "markdown",
   "metadata": {},
   "source": [
    "One expected drawing type:"
   ]
  },
  {
   "cell_type": "code",
   "execution_count": 13,
   "metadata": {},
   "outputs": [
    {
     "name": "stderr",
     "output_type": "stream",
     "text": [
      "  % Total    % Received % Xferd  Average Speed   Time    Time     Time  Current\n",
      "                                 Dload  Upload   Total   Spent    Left  Speed\n",
      "\n",
      "  0     0    0     0    0     0      0      0 --:--:-- --:--:-- --:--:--     0\n",
      "100 40245    0 40245    0     0   247k      0 --:--:-- --:--:-- --:--:--  247k\n"
     ]
    }
   ],
   "source": [
    "\n",
    "!curl https://digi.kansalliskirjasto.fi/sanomalehti/binding/1198629/articles/43569800/images/1437505?scale=1.0 --output kuva1.jpg\n"
   ]
  },
  {
   "cell_type": "code",
   "execution_count": 14,
   "metadata": {},
   "outputs": [
    {
     "name": "stdout",
     "output_type": "stream",
     "text": [
      "./tmp/ : piirros painokuva (score = 0.00913)\n"
     ]
    }
   ],
   "source": [
    "# The actual way to run the function\n",
    "\n",
    "luo, score = luokittelekuva(\"kuva1.jpg\") # sys.argv[1])\n"
   ]
  },
  {
   "cell_type": "code",
   "execution_count": 15,
   "metadata": {},
   "outputs": [
    {
     "name": "stdout",
     "output_type": "stream",
     "text": [
      "Category: piirrospainokuva, score 0.00912799034267664 \n"
     ]
    }
   ],
   "source": [
    "print(\"Category: {0}, score {1} \".format(luo, score)) "
   ]
  },
  {
   "cell_type": "markdown",
   "metadata": {},
   "source": [
    "Illustration of unknown type:"
   ]
  },
  {
   "cell_type": "code",
   "execution_count": 16,
   "metadata": {},
   "outputs": [
    {
     "name": "stderr",
     "output_type": "stream",
     "text": [
      "  % Total    % Received % Xferd  Average Speed   Time    Time     Time  Current\n",
      "                                 Dload  Upload   Total   Spent    Left  Speed\n",
      "\n",
      "  0     0    0     0    0     0      0      0 --:--:-- --:--:-- --:--:--     0\n",
      "100 87108    0 87108    0     0   603k      0 --:--:-- --:--:-- --:--:--  603k\n"
     ]
    }
   ],
   "source": [
    "!curl https://digi.kansalliskirjasto.fi/aikakausi/binding/1355524/articles/78396775/images/120919660?scale=1.0 --output kuva2.jpg"
   ]
  },
  {
   "cell_type": "code",
   "execution_count": 17,
   "metadata": {},
   "outputs": [
    {
     "name": "stdout",
     "output_type": "stream",
     "text": [
      "./tmp/ : piirros painokuva (score = 0.00012)\n",
      "Category: piirrospainokuva, score 0.00012121222971472889 \n"
     ]
    }
   ],
   "source": [
    "luo, score = luokittelekuva(\"kuva2.jpg\") # sys.argv[1])\n",
    "print(\"Category: {0}, score {1} \".format(luo, score))\n"
   ]
  },
  {
   "cell_type": "code",
   "execution_count": 18,
   "metadata": {},
   "outputs": [
    {
     "name": "stderr",
     "output_type": "stream",
     "text": [
      "  % Total    % Received % Xferd  Average Speed   Time    Time     Time  Current\n",
      "                                 Dload  Upload   Total   Spent    Left  Speed\n",
      "\n",
      "  0     0    0     0    0     0      0      0 --:--:-- --:--:-- --:--:--     0\n",
      "100  838k    0  838k    0     0  4738k      0 --:--:-- --:--:-- --:--:-- 4738k\n"
     ]
    }
   ],
   "source": [
    "\n",
    "!curl https://digi.kansalliskirjasto.fi/sanomalehti/binding/679866/articles/1544609/images/10576494?scale=1.0 --output kuva3.jpg"
   ]
  },
  {
   "cell_type": "code",
   "execution_count": 19,
   "metadata": {},
   "outputs": [
    {
     "name": "stdout",
     "output_type": "stream",
     "text": [
      "./tmp/ : kartat (score = 0.01916)\n",
      "Category: kartat, score 0.019164446741342545 \n"
     ]
    }
   ],
   "source": [
    "# then not so succesfull classification...\n",
    "\n",
    "luo, score = luokittelekuva(\"kuva3.jpg\") \n",
    "print(\"Category: {0}, score {1} \".format(luo, score))\n"
   ]
  },
  {
   "cell_type": "code",
   "execution_count": null,
   "metadata": {},
   "outputs": [],
   "source": []
  }
 ],
 "metadata": {
  "kernelspec": {
   "display_name": "Python 3",
   "language": "python",
   "name": "python3"
  },
  "language_info": {
   "codemirror_mode": {
    "name": "ipython",
    "version": 3
   },
   "file_extension": ".py",
   "mimetype": "text/x-python",
   "name": "python",
   "nbconvert_exporter": "python",
   "pygments_lexer": "ipython3",
   "version": "3.7.4"
  },
  "latex_envs": {
   "LaTeX_envs_menu_present": true,
   "autoclose": false,
   "autocomplete": true,
   "bibliofile": "biblio.bib",
   "cite_by": "apalike",
   "current_citInitial": 1,
   "eqLabelWithNumbers": true,
   "eqNumInitial": 1,
   "hotkeys": {
    "equation": "Ctrl-E",
    "itemize": "Ctrl-I"
   },
   "labels_anchors": false,
   "latex_user_defs": false,
   "report_style_numbering": false,
   "user_envs_cfg": false
  },
  "nbTranslate": {
   "displayLangs": [
    "*"
   ],
   "hotkey": "alt-t",
   "langInMainMenu": true,
   "sourceLang": "en",
   "targetLang": "fr",
   "useGoogleTranslate": true
  }
 },
 "nbformat": 4,
 "nbformat_minor": 2
}
